{
 "cells": [
  {
   "cell_type": "code",
   "execution_count": 1,
   "metadata": {
    "collapsed": false,
    "scrolled": true
   },
   "outputs": [
    {
     "data": {
      "text/plain": [
       "array([(1, 3.5, 2.5, 45000, 3.5, 3.5, b'N', 250, 90000),\n",
       "       (3, 3.8, 1.0, 65000, 3.6, 3.0, b'Y', 400, 100000),\n",
       "       (4, 3.8, 2.0, 85000, 4.0, 3.6, b'Y', 500, 90000),\n",
       "       (5, 3.41, 1.5, 10000, 3.41, 3.33, b'N', 365, 100000),\n",
       "       (6, 3.33, 5.0, 70000, 3.67, 3.0, b'Y', 400, 100000),\n",
       "       (7, 3.52, 2.5, 27000, 3.58, 3.52, b'N', 230, 85000),\n",
       "       (8, 3.5, 2.0, 40000, 3.7, 3.3, b'N', 250, 90000),\n",
       "       (9, 3.5, 5.0, 75000, 3.53, 3.3, b'Y', 260, 100000),\n",
       "       (10, 3.6, 2.5, 65000, 3.9, 3.1, b'Y', 250, 110000),\n",
       "       (11, 3.2, 4.0, 62000, 3.8, 3.0, b'N', 525, 105000),\n",
       "       (12, 3.5, 2.0, 60000, 3.5, 3.5, b'N', 400, 85000),\n",
       "       (13, 3.67, 1.8, 60000, 4.0, 3.0, b'N', 920, 140000),\n",
       "       (14, 3.5, 2.0, 60000, 3.7, 3.3, b'y', 300, 90000),\n",
       "       (15, 3.47, 2.5, 70000, 3.64, 3.37, b'Y', 310, 95000),\n",
       "       (16, 3.06, 1.3, 40000, 3.64, 2.67, b'Y', 550, 120000),\n",
       "       (17, 3.27, 2.0, 60000, 4.0, 3.0, b'Y', 350, 100000),\n",
       "       (18, 3.53, 4.0, 50000, 4.0, 3.3, b'N', 600, 88000),\n",
       "       (19, 4.0, 4.0, 50000, 4.0, 4.0, b'Y', 500, 130000),\n",
       "       (20, 3.4, 1.0, 30000, 3.6, 3.1, b'N', 500, 80000),\n",
       "       (21, 3.54, 1.0, 40000, 4.0, 3.42, b'Y', 650, 95000),\n",
       "       (22, 3.5, 2.0, 75000, 4.0, 3.0, b'Y', 515, 80000),\n",
       "       (23, 3.5, 4.0, 50000, 3.8, 3.2, b'Y', 350, 110000),\n",
       "       (24, 3.4, 3.0, 50000, 3.8, 3.2, b'Y', 301, 90000),\n",
       "       (26, 3.3, 4.0, 65000, 4.0, 3.65, b'Y', 700, 100000),\n",
       "       (27, 3.9, 6.0, 90000, 4.0, 3.8, b'Y', 809, 120000),\n",
       "       (28, 3.17, 1.0, 50000, 3.3, 3.0, b'N', 258, 100000),\n",
       "       (29, 3.48, 3.5, 60000, 4.0, 3.33, b'Y', 350, 100000),\n",
       "       (30, 3.93, 4.0, 43000, 4.0, 3.28, b'Y', 900, 100000),\n",
       "       (31, 3.43, 4.0, 60000, 3.5, 3.3, b'Y', 220, 110000),\n",
       "       (32, 3.33, 5.0, 5000, 3.66, 3.0, b'Y', 183, 100000),\n",
       "       (33, 3.6, 1.5, 60000, 3.7, 3.4, b'Y', 340, 100000),\n",
       "       (34, 3.8, 3.0, 65000, 3.8, 3.5, b'Y', 800, 80000),\n",
       "       (35, 3.5, 3.0, 65000, 4.0, 3.6, b'Y', 400, 80000),\n",
       "       (36, 3.39, 2.0, 60000, 3.8, 3.2, b'Y', 500, 90000)], \n",
       "      dtype=[('No', '<i4'), ('GPA', '<f8'), ('Years_of_work_experience', '<f8'), ('Latest_salary_per_year', '<i4'), ('Highest_GPA', '<f8'), ('Lowest_GPA', '<f8'), ('CoopsInternships_YN', 'S1'), ('Number_of_contacts_on_Linkedin', '<i4'), ('Expected_Salary_after_graduation', '<i4')])"
      ]
     },
     "execution_count": 1,
     "metadata": {},
     "output_type": "execute_result"
    }
   ],
   "source": [
    "#Import dataset into python\n",
    "import numpy as np\n",
    "data = np.genfromtxt('classdata.csv', dtype=None ,delimiter=',', names=True)\n",
    "data\n"
   ]
  },
  {
   "cell_type": "code",
   "execution_count": null,
   "metadata": {
    "collapsed": false
   },
   "outputs": [],
   "source": [
    "#Q1 (a) Min, Max, Average and Median of class GPA\n",
    "\n",
    "import numpy as np\n",
    "avggpa= np.average(data['GPA'])\n",
    "mediangpa= np.median(data['GPA'])\n",
    "mingpa = np.min(data['GPA'])\n",
    "maxgpa = np.max(data['GPA'])\n",
    "\n",
    "print('Average GPA =', avggpa)\n",
    "print('Median GPA =', mediangpa)\n",
    "print('Min GPA =', mingpa)\n",
    "print('Max GPA =', maxgpa)\n",
    "\n",
    "#Q1 (b) Min, Max, Average and Median of Work Experience\n",
    "\n",
    "avgworkex= np.average(data['Years_of_work_experience']) \n",
    "medianworkex= np.median(data['Years_of_work_experience'])\n",
    "minworkex = np.min(data['Years_of_work_experience'])\n",
    "maxworkex = np.max(data['Years_of_work_experience'])\n",
    "\n",
    "print('Average Work Experience =', avgworkex)\n",
    "print('Median Work Experience =', medianworkex)\n",
    "print('Min Work Experience =', minworkex)\n",
    "print('Max Work Experience =', maxworkex)\n"
   ]
  },
  {
   "cell_type": "code",
   "execution_count": null,
   "metadata": {
    "collapsed": false
   },
   "outputs": [],
   "source": [
    "#Q2. Mode of Salary\n",
    "from scipy import stats\n",
    "m = stats.mode(data['Latest_salary_per_year'])\n",
    "print(\"Mode of Salary:\", m.mode)\n",
    "print(\"Number of Occurances:\",m.count)"
   ]
  },
  {
   "cell_type": "code",
   "execution_count": null,
   "metadata": {
    "collapsed": false
   },
   "outputs": [],
   "source": [
    "\n",
    "#Q3. %age of Students having a co-op\n",
    "upperString=[x.upper() for x in data['CoopsInternships_YN']]\n",
    "total = len(upperString)\n",
    "\n",
    "x =collections.Counter(upperString)\n",
    "for k,v in x.items():\n",
    "    if(k == \"N\"):\n",
    "        print(\"Pct students without co_op = \", round((v/total)*100,2))\n",
    "    else:\n",
    "          print(\"Pct students with co_op = \", round((v/total)*100,2))\n",
    "\n",
    "\n"
   ]
  },
  {
   "cell_type": "code",
   "execution_count": null,
   "metadata": {
    "collapsed": false
   },
   "outputs": [],
   "source": [
    "#Q4. Number of people with more than 500 LinkedIn contacts\n",
    "\n",
    "import numpy as np\n",
    "count = 0\n",
    "linkedIn =data['Number_of_contacts_on_Linkedin'] \n",
    "for number in linkedIn:\n",
    "    if(number > 500):\n",
    "        count  = count + 1\n",
    "print (\"Number of people with more than 500 students =\", count)"
   ]
  },
  {
   "cell_type": "code",
   "execution_count": null,
   "metadata": {
    "collapsed": false
   },
   "outputs": [],
   "source": [
    "#Q5. Interquartile range for Expected Salary\n",
    "q75, q25 = np.percentile(data['Expected_Salary_after_graduation'], [75 ,25])\n",
    "iqr = q75 - q25\n",
    "print(\"Interquartile range for Expected Salary\",iqr)\n"
   ]
  },
  {
   "cell_type": "code",
   "execution_count": null,
   "metadata": {
    "collapsed": false
   },
   "outputs": [],
   "source": [
    "\n"
   ]
  }
 ],
 "metadata": {
  "anaconda-cloud": {},
  "kernelspec": {
   "display_name": "Python [default]",
   "language": "python",
   "name": "python3"
  },
  "language_info": {
   "codemirror_mode": {
    "name": "ipython",
    "version": 3
   },
   "file_extension": ".py",
   "mimetype": "text/x-python",
   "name": "python",
   "nbconvert_exporter": "python",
   "pygments_lexer": "ipython3",
   "version": "3.5.2"
  }
 },
 "nbformat": 4,
 "nbformat_minor": 1
}
