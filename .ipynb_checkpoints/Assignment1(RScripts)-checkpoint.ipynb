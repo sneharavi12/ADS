{
 "cells": [
  {
   "cell_type": "code",
   "execution_count": 2,
   "metadata": {
    "collapsed": false
   },
   "outputs": [
    {
     "data": {
      "text/html": [
       "'data.frame'"
      ],
      "text/latex": [
       "'data.frame'"
      ],
      "text/markdown": [
       "'data.frame'"
      ],
      "text/plain": [
       "[1] \"data.frame\""
      ]
     },
     "metadata": {},
     "output_type": "display_data"
    },
    {
     "name": "stdout",
     "output_type": "stream",
     "text": [
      "Class Minimum GPA:  3.06Class Maximun GPA:  4Class Mean GPA:  3.509706Class Median GPA:  3.5Class Minimum Work Exp:  1Class Maximun Work Exp:  6Class Mean Work Exp:  2.811765Class Median Work Exp:  2.5"
     ]
    },
    {
     "data": {
      "text/html": [
       "60000"
      ],
      "text/latex": [
       "60000"
      ],
      "text/markdown": [
       "60000"
      ],
      "text/plain": [
       "[1] 60000"
      ]
     },
     "metadata": {},
     "output_type": "display_data"
    },
    {
     "name": "stdout",
     "output_type": "stream",
     "text": [
      "Pct students with co_op =  70.58824 %Pct students without co_op =  29.41176 %Number of people with more than 500 students = 10Interquartile range for Expected Salary 10000"
     ]
    }
   ],
   "source": [
    "#importing csv into R\n",
    "classdata<-read.csv(\"classdata.csv\")\n",
    "class(classdata)\n",
    "\n",
    "\n",
    "#Q1 (a) Min, Max, Average and Median of GPA \n",
    "mingpa<-min(classdata$GPA)\n",
    "maxgpa<-max(classdata$GPA)\n",
    "avggpa<-mean(classdata[[\"GPA\"]])\n",
    "mediangpa<-median(classdata$GPA)\n",
    "cat(\"Class Minimum GPA: \",mingpa)\n",
    "cat(\"Class Maximun GPA: \",maxgpa)\n",
    "cat(\"Class Mean GPA: \",avggpa)\n",
    "cat(\"Class Median GPA: \",mediangpa)\n",
    "\n",
    "#Q1 (b) Min, Max, Average and Median of Work Experience\n",
    "\n",
    "min_wex<-min(classdata$Years.of.work.experience)\n",
    "max_wex<-max(classdata$Years.of.work.experience)\n",
    "avg_wex<-mean(classdata[[\"Years.of.work.experience\"]])\n",
    "median_wex<-median(classdata$Years.of.work.experience)\n",
    "\n",
    "cat(\"Class Minimum Work Exp: \",min_wex)\n",
    "cat(\"Class Maximun Work Exp: \",max_wex)\n",
    "cat(\"Class Mean Work Exp: \",avg_wex)\n",
    "cat(\"Class Median Work Exp: \",median_wex)\n",
    "\n",
    "#Q2. Mode of Salary\n",
    "estimate_mode <- function(v) {\n",
    "  uniqv <- unique(v)\n",
    "  uniqv[which.max(tabulate(match(v, uniqv)))]\n",
    "}\n",
    "sal_mode=estimate_mode(classdata$Latest.salary..per.year.)\n",
    "sal_mode\n",
    "\n",
    "#Q3. %age of Students having a co-op\n",
    "co_op<-toupper(classdata$Coops.Internships..YN.)\n",
    "number_y<-length(which(co_op==\"Y\"))\n",
    "number_n<-length(which(co_op==\"N\"))\n",
    "pct_y<-(number_y/(number_y+number_n))*100\n",
    "pct_n<-(number_n/(number_y+number_n))*100\n",
    "cat(\"Pct students with co_op = \", pct_y,\"%\")\n",
    "cat(\"Pct students without co_op = \", pct_n,\"%\")\n",
    "\n",
    "#Q4. Number of people with more than 500 students \n",
    "linked_in<-length(which(classdata$Number.of.contacts.on.Linkedin>500))\n",
    "cat(\"Number of people with more than 500 students =\", linked_in)\n",
    "\n",
    "#Q5. Interquartile range for Expected Salary\n",
    "sal_iqr<-IQR(classdata$Expected.Salary.after.graduation)\n",
    "cat(\"Interquartile range for Expected Salary\",sal_iqr)"
   ]
  }
 ],
 "metadata": {
  "anaconda-cloud": {},
  "kernelspec": {
   "display_name": "R",
   "language": "R",
   "name": "ir"
  },
  "language_info": {
   "codemirror_mode": "r",
   "file_extension": ".r",
   "mimetype": "text/x-r-source",
   "name": "R",
   "pygments_lexer": "r",
   "version": "3.3.2"
  }
 },
 "nbformat": 4,
 "nbformat_minor": 1
}
